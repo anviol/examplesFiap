{
  "nbformat": 4,
  "nbformat_minor": 0,
  "metadata": {
    "colab": {
      "provenance": [],
      "toc_visible": true,
      "authorship_tag": "ABX9TyOR6t8INcQrANxFgrXoSsx/",
      "include_colab_link": true
    },
    "kernelspec": {
      "name": "python3",
      "display_name": "Python 3"
    },
    "language_info": {
      "name": "python"
    }
  },
  "cells": [
    {
      "cell_type": "markdown",
      "metadata": {
        "id": "view-in-github",
        "colab_type": "text"
      },
      "source": [
        "<a href=\"https://colab.research.google.com/github/anviol/examplesFiap/blob/main/FASE_1_AULA_1_Estat%C3%ADstica_e_Algelin_em_Python.ipynb\" target=\"_parent\"><img src=\"https://colab.research.google.com/assets/colab-badge.svg\" alt=\"Open In Colab\"/></a>"
      ]
    },
    {
      "cell_type": "markdown",
      "source": [
        "# Introdução"
      ],
      "metadata": {
        "id": "oy-canuSdI9h"
      }
    },
    {
      "cell_type": "code",
      "execution_count": 3,
      "metadata": {
        "id": "1LZil6KjXvyC"
      },
      "outputs": [],
      "source": [
        "import numpy as np\n",
        "import scipy as sc\n",
        "import sympy as sy\n",
        "import pandas as pd"
      ]
    },
    {
      "cell_type": "markdown",
      "source": [
        "$$ \\alpha + \\beta = 10 $$\n",
        "\n",
        "|Matemática|Python|\n",
        "|:--|:--|\n",
        "|lista/vetor|Series|\n",
        "|matriz|DataFrame|\n",
        "\n",
        "Vamos simplificar esses conceitos matemáticos fazendo uma analogia com estruturas de dados em Python.\n",
        "\n",
        "## Vetor → Lista em Python\n",
        "\n",
        "**No mundo matemático:** Um vetor é uma coleção de elementos que seguem uma ordem linear. Você pode pensar em um vetor como uma fila de pessoas aguardando atendimento em um banco; cada pessoa (elemento) tem uma posição específica na fila.\n",
        "\n",
        "**No mundo do Python:** Uma lista é muito similar ao conceito matemático de vetor. Assim como um vetor, uma lista em Python mantém uma ordem linear dos elementos. Você pode acessar, modificar ou adicionar elementos usando sua posição (índice) na lista."
      ],
      "metadata": {
        "id": "RcWzUXp6dkLz"
      }
    },
    {
      "cell_type": "code",
      "source": [
        "vetor = [10, 20, 30, 40]  # Isso é uma lista em Python, mas podemos pensar nela como um vetor.\n",
        "print(vetor[2])  # Acessa o terceiro elemento do vetor, que é 30. Lembrando que a posição começa em 0"
      ],
      "metadata": {
        "id": "-lR0G6sSjqlj"
      },
      "execution_count": null,
      "outputs": []
    },
    {
      "cell_type": "markdown",
      "source": [
        "## Matriz → Lista de Listas em Python\n",
        "\n",
        "**No mundo matemático:** Uma matriz é basicamente uma tabela de números, organizada em linhas e colunas. Pense em uma matriz como uma sala de aula com várias fileiras de carteiras, onde cada carteira (elemento) é ocupada por um aluno e pode ser identificada por sua fileira e coluna.\n",
        "\n",
        "**No mundo do Python:** A maneira mais direta de representar uma matriz em Python é usando uma lista de listas. Cada lista interna representa uma linha da matriz, e os elementos dessas listas são as colunas."
      ],
      "metadata": {
        "id": "bbiog-1nj11O"
      }
    },
    {
      "cell_type": "code",
      "source": [
        "matriz = [\n",
        "    [1, 2, 3],   # Primeira linha\n",
        "    [4, 5, 6],   # Segunda linha\n",
        "    [7, 8, 9]    # Terceira linha\n",
        "]\n",
        "print(matriz[1][2])  # Acessa o elemento da segunda linha e terceira coluna, que é 6."
      ],
      "metadata": {
        "id": "KEfbLvNHj4sh"
      },
      "execution_count": null,
      "outputs": []
    },
    {
      "cell_type": "markdown",
      "source": [
        "## Autovetores e Autovalores → Funções e Arrays em NumPy\n",
        "\n",
        "**No mundo matemático:** Autovetores são vetores especiais associados a uma matriz que, quando multiplicados por essa matriz, resultam no vetor original escalado por um fator específico, que é o autovalor. Esses conceitos são fundamentais em álgebra linear para entender transformações lineares.\n",
        "\n",
        "**No mundo do Python:** Vamos utilizar a biblioteca NumPy, que é uma extensão que suporta arrays e matrizes de grande dimensão com uma coleção grande de funções matemáticas para operar nesses arrays.\n",
        "\n",
        "Imagine que você tem um programa no Python que precisa identificar direções principais numa lista de pontos de dados (vetores). Os autovetores seriam as direções principais e os autovalores indicariam a \"importância\" ou \"intensidade\" dessas direções."
      ],
      "metadata": {
        "id": "tyZHMSZqlUyS"
      }
    },
    {
      "cell_type": "code",
      "source": [
        "# Criando uma matriz exemplo\n",
        "A = np.array([[4, 2], [1, 3]])\n",
        "\n",
        "# Calculando autovetores e autovalores\n",
        "autovalores, autovetores = np.linalg.eig(A)\n",
        "\n",
        "print(\"Autovalores:\", autovalores)\n",
        "print(\"Autovetores:\\n\", autovetores)"
      ],
      "metadata": {
        "colab": {
          "base_uri": "https://localhost:8080/"
        },
        "id": "8kgcyh_2ldTw",
        "outputId": "805d7d39-919e-4e76-b4ed-f6c950f6a3d3"
      },
      "execution_count": 11,
      "outputs": [
        {
          "output_type": "stream",
          "name": "stdout",
          "text": [
            "Autovalores: [5. 2.]\n",
            "Autovetores:\n",
            " [[ 0.89442719 -0.70710678]\n",
            " [ 0.4472136   0.70710678]]\n"
          ]
        }
      ]
    },
    {
      "cell_type": "markdown",
      "source": [
        "### Explicação da Analogia\n",
        "\n",
        "- **Autovetores (NumPy arrays)**: No código Python, `autovetores` são como listas que indicam as direções principais onde a matriz `A` atua de forma mais significativa. Essas listas de direções são retornadas como colunas na matriz de `autovetores` do NumPy.\n",
        "\n",
        "- **Autovalores (NumPy array)**: Os `autovalores` associados indicam quão forte é a ação da matriz nessas direções. Valores maiores indicam uma estiramento maior, valores menores indicam uma compressão, e valores negativos podem indicar uma inversão de direção."
      ],
      "metadata": {
        "id": "IyfIxAeilwBG"
      }
    },
    {
      "cell_type": "markdown",
      "source": [
        "## Tensor → Array Multidimensional em NumPy\n",
        "\n",
        "**No mundo matemático:** Um tensor é uma generalização de vetores e matrizes para dimensões superiores. Se você pensar em um vetor como uma linha de elementos (1D) e uma matriz como uma tabela de elementos (2D), um tensor é um array que pode ter três, quatro, cinco, ou mais dimensões. Cada dimensão adicional pode representar diferentes atributos ou conjuntos de dados.\n",
        "\n",
        "**No mundo do Python:** Em Python, um tensor pode ser representado como um array multidimensional usando a biblioteca NumPy. Isso permite armazenar e manipular dados em várias dimensões de forma eficiente, o que é comum em áreas como processamento de imagens, onde imagens coloridas são representadas como tensores 3D (altura, largura, canais de cor), e em aprendizado de máquina para redes neurais."
      ],
      "metadata": {
        "id": "kGh5reZ9mrY8"
      }
    },
    {
      "cell_type": "code",
      "source": [
        "# Criando um tensor 3D (poderia representar, por exemplo, uma imagem colorida)\n",
        "tensor = np.array([\n",
        "    [[255, 0, 0], [0, 255, 0], [0, 0, 255]],\n",
        "    [[255, 255, 0], [255, 0, 255], [0, 255, 255]],\n",
        "    [[0, 0, 0], [255, 255, 255], [128, 128, 128]]\n",
        "])\n",
        "\n",
        "print(\"Tensor (Array 3D):\\n\", tensor)"
      ],
      "metadata": {
        "id": "QNxVpwSsmtvE"
      },
      "execution_count": null,
      "outputs": []
    },
    {
      "cell_type": "markdown",
      "source": [
        "### Explicação da Analogia\n",
        "\n",
        "- **Tensor (NumPy array)**: No exemplo do código Python, `tensor` é um array 3D onde cada elemento do array mais interno pode representar um pixel de cor em uma imagem, com três canais de cor (RGB). Assim como um tensor matemático, ele pode ser manipulado e transformado usando operações matemáticas complexas fornecidas pela NumPy.\n",
        "\n",
        "- **Uso em Python**: A biblioteca NumPy oferece uma vasta gama de funções para operar sobre esses arrays multidimensionais, incluindo operações matemáticas básicas (soma, multiplicação), transformações de forma (transposição, remodelação), e operações mais complexas (álgebra linear, estatísticas).\n",
        "\n",
        "- **Aplicações Práticas**: Tais estruturas são essenciais em campos de ciência de dados, aprendizado de máquina, física computacional e engenharia, onde a manipulação de grandes conjuntos de dados multidimensionais é uma necessidade comum."
      ],
      "metadata": {
        "id": "Ng_fBK_Am2aE"
      }
    },
    {
      "cell_type": "markdown",
      "source": [
        "## Conclusão da Analogia\n",
        "\n",
        "- **Vetor e Lista**: Ambos são estruturas lineares que armazenam elementos em uma sequência especificada. Em Python, você usa listas para representar vetores.\n",
        "  \n",
        "- **Matriz e Lista de Listas**: Uma matriz, que é uma estrutura bidimensional, pode ser representada em Python como uma lista de listas, onde cada sublista é uma linha da matriz.\n",
        "\n",
        "- **Autovetores e Listas**: Assim como uma lista em Python pode armazenar uma série de valores, um autovetor armazena direções principais (como uma bússola apontando para onde a matriz \"puxa\" mais fortemente os dados).\n",
        "  \n",
        "- **Autovalores e Elementos de uma Lista**: Cada autovalor é como um item numa lista, indicando a magnitude da influência na direção de seu autovetor correspondente. No Python, usamos arrays do NumPy para representar esses conceitos de forma eficaz, permitindo operações complexas de álgebra linear de forma simples e direta.\n",
        "\n",
        "- **Tensor e Array Multidimensional**: Tanto tensores quanto arrays multidimensionais permitem representar e manipular dados em várias dimensões. No Python, usando NumPy, essas manipulações são simplificadas, permitindo que desenvolvedores e cientistas concentrem-se mais na análise dos dados e menos nos detalhes da implementação matemática.\n",
        "\n",
        "Essa analogia deve ajudar a conectar os conceitos matemáticos de vetor, matriz, autovalores, autovetores e tensores com suas representações práticas em Python, tornando mais intuitivo trabalhar com essas estruturas ao programar."
      ],
      "metadata": {
        "id": "F2zBYI6Yj9o7"
      }
    },
    {
      "cell_type": "code",
      "source": [
        "lista = np.array([1, 2, 3, 4, 5, 6, 7, 8, 9, 10])\n",
        "\n",
        "df = pd.DataFrame({'coluna_1': lista, 'coluna_2': lista})"
      ],
      "metadata": {
        "id": "16xS5H_2dSpC"
      },
      "execution_count": 5,
      "outputs": []
    },
    {
      "cell_type": "code",
      "source": [
        "print(type(df))\n",
        "print(type(df['coluna_1']))"
      ],
      "metadata": {
        "colab": {
          "base_uri": "https://localhost:8080/"
        },
        "id": "vZluNZqhh0mR",
        "outputId": "dffc7b80-5f38-4552-f293-ad87e7212e3a"
      },
      "execution_count": 9,
      "outputs": [
        {
          "output_type": "stream",
          "name": "stdout",
          "text": [
            "<class 'pandas.core.frame.DataFrame'>\n",
            "<class 'pandas.core.series.Series'>\n"
          ]
        }
      ]
    }
  ]
}