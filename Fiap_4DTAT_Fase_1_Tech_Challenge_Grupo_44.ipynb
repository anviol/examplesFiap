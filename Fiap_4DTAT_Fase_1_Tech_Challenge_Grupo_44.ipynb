{
  "nbformat": 4,
  "nbformat_minor": 0,
  "metadata": {
    "colab": {
      "provenance": [],
      "authorship_tag": "ABX9TyMCintJBlrMbChDBEH9xSBU",
      "include_colab_link": true
    },
    "kernelspec": {
      "name": "python3",
      "display_name": "Python 3"
    },
    "language_info": {
      "name": "python"
    }
  },
  "cells": [
    {
      "cell_type": "markdown",
      "metadata": {
        "id": "view-in-github",
        "colab_type": "text"
      },
      "source": [
        "<a href=\"https://colab.research.google.com/github/anviol/examplesFiap/blob/main/Fiap_4DTAT_Fase_1_Tech_Challenge_Grupo_44.ipynb\" target=\"_parent\"><img src=\"https://colab.research.google.com/assets/colab-badge.svg\" alt=\"Open In Colab\"/></a>"
      ]
    },
    {
      "cell_type": "markdown",
      "source": [
        "# Tech Challenge - Grupo 44\n",
        "\n",
        "## O Problema\n",
        "<p>Imagine agora, que você vai atuar como Expert em Data Analytics em uma empresa que exporta vinhos do Brasil para o mundo todo.</p>\n",
        "<p>Sua área é recém-criada dentro da empresa, e você será responsável pelos relatórios iniciais a serem apresentados em uma reunião de investidores e acionistas, explicando a quantidade de vinhos exportados e os fatores externos que podem vir a surgir e que interferem nas análises:</p>\n",
        "\n",
        "1. Dados climáticos;\n",
        "1. Dados demográficos;\n",
        "1. Dados econômicos;\n",
        "1. Dados de avaliações de vinhos.\n",
        "\n",
        "<p>O Head de Dados pediu para que você construísse uma tabela contendo as seguintes informações:</p>\n",
        "\n",
        "a. País de origem (Brasil);<br>\n",
        "b. País de destino;<br>\n",
        "c. Quantidade em litros de vinho exportado (utilize: 1KG =1L);<br>\n",
        "d. Valor em US$;<br>\n",
        "\n",
        "<p>Os dados que lhe forneceram são de uma vinícola parceira, e podem ser encontrados aqui (http://vitibrasil.cnpuv.embrapa.br/index.php?opcao=opt_01).</p>\n",
        "\n",
        "## Objetivo\n",
        "\n",
        "Seu objetivo é dizer o montante de venda de exportação nos últimos 15 anos, separando a análise por país e trazendo quais as prospecções futuras e possíveis ações para uma melhoria nas exportações. Construa gráficos atraentes e que passem a ideia central para que os acionistas e investidores possam seguir em frente com suas ações.\n",
        "\n",
        ">**DICA**: Para construir uma boa análise, utilize várias bases do mesmo site! Outro ponto interessante, é utilizar os dados externos citados acima para enriquecer ainda mais a mensagem que você quer passar.\n",
        "\n",
        "Lembre-se de que você poderá apresentar o desenvolvimento do seu projeto durante as lives com docentes no Discord! Essa é uma boa oportunidade para discutir sobre as dificuldades encontradas e pegar dicas valiosas com especialistas e colegas de turma.\n",
        "\n",
        ">**IMPORTANTE**: Não esqueça de que este é um entregável obrigatório! Se atente para o prazo de entrega até o final da fase!"
      ],
      "metadata": {
        "id": "2-432mLo5ntU"
      }
    },
    {
      "cell_type": "markdown",
      "source": [
        "## Dúvidas\n",
        "1. O período que vamos trabalhar é de 2008 à 2022?!\n",
        "1. Qual período futuro para analise?\n",
        "1. Qual ambiente usar para programação de mais de um analista?\n",
        "1. Cada um vai ficar com a analise de um arquivo?\n",
        "1. Como fazer a prospecção sem nenhum dado do futuro?"
      ],
      "metadata": {
        "id": "IFNFoTf_Bd0d"
      }
    },
    {
      "cell_type": "code",
      "execution_count": 21,
      "metadata": {
        "id": "tCaQU_Gt5Mg3"
      },
      "outputs": [],
      "source": [
        "import pandas as pd\n",
        "import chardet"
      ]
    },
    {
      "cell_type": "code",
      "source": [
        "anos_analisados = list(range(2008, 2023))"
      ],
      "metadata": {
        "id": "Ml5hriNneiVw"
      },
      "execution_count": 49,
      "outputs": []
    },
    {
      "cell_type": "code",
      "source": [
        "from google.colab import drive\n",
        "drive.mount('/content/drive')"
      ],
      "metadata": {
        "colab": {
          "base_uri": "https://localhost:8080/"
        },
        "id": "FlEOWrDCEjyE",
        "outputId": "18a3c510-5a1e-4e76-9005-e3e0af00b762"
      },
      "execution_count": 2,
      "outputs": [
        {
          "output_type": "stream",
          "name": "stdout",
          "text": [
            "Mounted at /content/drive\n"
          ]
        }
      ]
    },
    {
      "cell_type": "code",
      "source": [
        "csv_vitibrasil_producao = pd.read_csv('/content/drive/MyDrive/Fiap/Fase 1 Tech Challenge/dados originais/embrapa/Producao.csv'\n",
        "                            , sep=\";\")\n",
        "csv_vitibrasil_comercio = pd.read_csv('/content/drive/MyDrive/Fiap/Fase 1 Tech Challenge/dados originais/embrapa/Comercio.csv'\n",
        "                            , sep=\";\")\n",
        "csv_vitibrasil_exportacao = pd.read_csv('/content/drive/MyDrive/Fiap/Fase 1 Tech Challenge/dados originais/embrapa/ExpVinho.csv'\n",
        "                            , sep=\";\")\n",
        "csv_vitibrasil_importacao = pd.read_csv('/content/drive/MyDrive/Fiap/Fase 1 Tech Challenge/dados originais/embrapa/ImpVinhos.csv'\n",
        "                            , sep=\";\")\n",
        "csv_vitibrasil_processamento = pd.read_csv('/content/drive/MyDrive/Fiap/Fase 1 Tech Challenge/dados originais/embrapa/ProcessaViniferas.csv'\n",
        "                            , sep=\";\")"
      ],
      "metadata": {
        "id": "zHe3bIpJEpfa"
      },
      "execution_count": 17,
      "outputs": []
    },
    {
      "cell_type": "code",
      "source": [
        "def importacao_dados_inmet(csv_file_path : str):\n",
        "\n",
        "  with open (csv_file_path, \"rb\") as file:\n",
        "    bytes = file.read(100)\n",
        "\n",
        "  encoding_file = chardet.detect(bytes)\n",
        "\n",
        "  if encoding_file.get(\"encoding\") == 'ascii':\n",
        "    encoding_file = 'ISO-8859-1'\n",
        "  else:\n",
        "    encoding_file = encoding_file.get(\"encoding\")\n",
        "\n",
        "  return pd.read_csv(csv_file_path\n",
        "                              , sep=\";\"\n",
        "                              , encoding=encoding_file\n",
        "                              , skiprows=8)"
      ],
      "metadata": {
        "id": "8oPGxur4FTLl"
      },
      "execution_count": 47,
      "outputs": []
    },
    {
      "cell_type": "code",
      "source": [
        "csv_inmet_por_ano = {}\n",
        "\n",
        "for ano in anos_analisados:\n",
        "  csv_inmet_por_ano[ano] = importacao_dados_inmet(f'/content/drive/MyDrive/Fiap/Fase 1 Tech Challenge/dados originais/INMET/INMET_S_RS_A840_BENTO GONCALVES_01-01-{ano}_A_31-12-{ano}.CSV')"
      ],
      "metadata": {
        "id": "Y7hvZ6BAWKs0"
      },
      "execution_count": 51,
      "outputs": []
    }
  ]
}